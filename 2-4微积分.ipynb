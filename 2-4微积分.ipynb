{
 "cells": [
  {
   "cell_type": "markdown",
   "id": "5ebc82b1-57a6-4670-948e-506f89fb42ee",
   "metadata": {},
   "source": [
    "##### 导数和微分"
   ]
  },
  {
   "cell_type": "code",
   "execution_count": 1,
   "id": "20547aac-cdb5-48b1-89c0-bbde524819f6",
   "metadata": {},
   "outputs": [],
   "source": [
    "%matplotlib inline\n",
    "import numpy as np\n",
    "from matplotlib_inline import backend_inline\n",
    "from d2l import torch as d2l\n",
    "\n",
    "def f(x):\n",
    "    return 3*x**2-4*x"
   ]
  },
  {
   "cell_type": "code",
   "execution_count": 2,
   "id": "f0c8b563-2463-4ef8-b07c-8b32b58ed8b3",
   "metadata": {},
   "outputs": [],
   "source": [
    "def numerical_llim(x,h):\n",
    "    return (f(x+h) - f(x)) / h"
   ]
  },
  {
   "cell_type": "code",
   "execution_count": 3,
   "id": "60aaa868-3fc0-46f4-b5bb-6fb98f7b4645",
   "metadata": {},
   "outputs": [
    {
     "name": "stdout",
     "output_type": "stream",
     "text": [
      "h = 0.10000, numerical limit = 2.30000\n",
      "h = 0.01000, numerical limit = 2.03000\n",
      "h = 0.00100, numerical limit = 2.00300\n",
      "h = 0.00010, numerical limit = 2.00030\n",
      "h = 0.00001, numerical limit = 2.00003\n"
     ]
    }
   ],
   "source": [
    "h = 0.1\n",
    "for i in range(5):\n",
    "    print(f'h = {h:.5f}, numerical limit = {numerical_llim(1,h):.5f}')\n",
    "    h*=0.1"
   ]
  },
  {
   "cell_type": "code",
   "execution_count": 4,
   "id": "8c6d6308-472f-40c1-ad30-7c75bd7691bc",
   "metadata": {},
   "outputs": [],
   "source": [
    "def use_svg_display():\n",
    "    backend_inline.set_matplotlib_formats('svg')"
   ]
  },
  {
   "cell_type": "code",
   "execution_count": 5,
   "id": "2d64f234-7172-4b2c-bcb4-04a567dda156",
   "metadata": {},
   "outputs": [],
   "source": [
    "def set_figsize(figsize = (3.5,2.5)):\n",
    "    use_svg_display()\n",
    "    d2l.plt.rcParams['figure.figsize'] = figsize"
   ]
  },
  {
   "cell_type": "code",
   "execution_count": 6,
   "id": "fe0e15e7-6806-4fbb-a233-4c8955d805fb",
   "metadata": {},
   "outputs": [],
   "source": [
    "def set_axes(axes,xlabel,ylabel,xlim,ylim,xscale,yscale,legend):\n",
    "    axes.set_xlabel(xlabel)\n",
    "    axes.set_ylabel(ylabel)\n",
    "    axes.set_xscale(xscale)\n",
    "    axes.set_yscale(yscale)\n",
    "    axes.set_xlim(xlim)\n",
    "    axes.set_ylim(ylim)\n",
    "    if legend:\n",
    "        axes.legend(legend)\n",
    "    axes.grid(True)\n",
    "    "
   ]
  },
  {
   "cell_type": "code",
   "execution_count": null,
   "id": "6d167af5-6d76-40c0-ac46-176ceb4f59b1",
   "metadata": {},
   "outputs": [],
   "source": [
    "def plot(X,Y=None,xlabel = None,ylabel = None,legend =None,xlim=None,\n",
    "         ylim = None,xscale='linear',yscale='linear',\n",
    "         fmts=('-','m--','g-.','r:'),figsize = (3.5,2.5),axes = None):\n",
    "    if legend is None:\n",
    "        legend = []\n",
    "    set_figsize(figsize)\n",
    "    axes = axes if axes else d2l.plt.gca()\n",
    "\n",
    "    def has_on_axis(x):\n",
    "        return (hasattr(X, \"ndim\") and X.ndim == 1 or isinstance(X, list)\n",
    "                and not hasattr(X[0], \"__len__\"))\n",
    "\n",
    "    "
   ]
  }
 ],
 "metadata": {
  "kernelspec": {
   "display_name": "train",
   "language": "python",
   "name": "train"
  },
  "language_info": {
   "codemirror_mode": {
    "name": "ipython",
    "version": 3
   },
   "file_extension": ".py",
   "mimetype": "text/x-python",
   "name": "python",
   "nbconvert_exporter": "python",
   "pygments_lexer": "ipython3",
   "version": "3.10.13"
  }
 },
 "nbformat": 4,
 "nbformat_minor": 5
}
