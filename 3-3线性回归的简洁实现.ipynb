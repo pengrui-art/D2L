{
 "cells": [
  {
   "cell_type": "code",
   "execution_count": 1,
   "id": "5e6b51a2-1b03-4e68-ba50-be0a5d85b6a6",
   "metadata": {},
   "outputs": [],
   "source": [
    "import numpy as numpy\n",
    "import torch\n",
    "from torch.utils import data\n",
    "from d2l import torch as d2l\n",
    "\n",
    "true_w = torch.tensor([2,-3.4])\n",
    "true_b = 4.2\n",
    "features,labels = d2l.synthetic_data(true_w,true_b,1000)"
   ]
  },
  {
   "cell_type": "code",
   "execution_count": 3,
   "id": "819c13ab-7ac2-4492-b2a7-2b1cc02ade4c",
   "metadata": {},
   "outputs": [],
   "source": [
    "def load_array(data_arrays,batch_size,is_train = True):\n",
    "    dataset = data.TensorDataset(*data_arrays)\n",
    "    return data.DataLoader(dataset,batch_size,shuffle= is_train)\n",
    "\n",
    "batch_size = 10\n",
    "data_iter = load_array((features,labels),batch_size)"
   ]
  },
  {
   "cell_type": "code",
   "execution_count": 4,
   "id": "cad1fa65-5f56-4801-ab75-0b24289198ea",
   "metadata": {},
   "outputs": [
    {
     "data": {
      "text/plain": [
       "[tensor([[ 0.1689,  0.8310],\n",
       "         [-0.4233, -1.5945],\n",
       "         [-0.6355,  0.7026],\n",
       "         [-1.0027,  0.0331],\n",
       "         [ 0.6980,  0.4132],\n",
       "         [ 0.3069, -0.2582],\n",
       "         [ 0.6763, -2.3412],\n",
       "         [ 0.7077, -0.4556],\n",
       "         [-1.4715, -0.5812],\n",
       "         [ 0.2475,  0.6196]]),\n",
       " tensor([[ 1.7100],\n",
       "         [ 8.7692],\n",
       "         [ 0.5486],\n",
       "         [ 2.0787],\n",
       "         [ 4.1912],\n",
       "         [ 5.6746],\n",
       "         [13.5153],\n",
       "         [ 7.1667],\n",
       "         [ 3.2398],\n",
       "         [ 2.5752]])]"
      ]
     },
     "execution_count": 4,
     "metadata": {},
     "output_type": "execute_result"
    }
   ],
   "source": [
    "next(iter(data_iter))"
   ]
  },
  {
   "cell_type": "code",
   "execution_count": 5,
   "id": "4fb65605-6591-47c6-9764-588f34ae36ef",
   "metadata": {},
   "outputs": [],
   "source": [
    "from torch import nn\n",
    "net = nn.Sequential(nn.Linear(2,1))"
   ]
  },
  {
   "cell_type": "code",
   "execution_count": 6,
   "id": "f2fbedab-2dc0-4dfd-abd0-fd51e94aaccc",
   "metadata": {},
   "outputs": [
    {
     "data": {
      "text/plain": [
       "tensor([0.])"
      ]
     },
     "execution_count": 6,
     "metadata": {},
     "output_type": "execute_result"
    }
   ],
   "source": [
    "net[0].weight.data.normal_(0,0.01)\n",
    "net[0].bias.data.fill_(0)"
   ]
  },
  {
   "cell_type": "code",
   "execution_count": 7,
   "id": "9c52b56a-f182-4856-8ed3-f4f57215bee0",
   "metadata": {},
   "outputs": [],
   "source": [
    "loss = nn.MSELoss()"
   ]
  },
  {
   "cell_type": "code",
   "execution_count": 8,
   "id": "fd97041d-e7d0-4957-ba8c-75d97c5f0149",
   "metadata": {},
   "outputs": [],
   "source": [
    "trainer = torch.optim.SGD(net.parameters(),lr = 0.03)"
   ]
  },
  {
   "cell_type": "code",
   "execution_count": 10,
   "id": "46c6bdb9-c28e-48f6-a85d-196d500a6d7f",
   "metadata": {},
   "outputs": [
    {
     "name": "stdout",
     "output_type": "stream",
     "text": [
      "epoch 1, loss 0.000212\n",
      "epoch 2, loss 0.000101\n",
      "epoch 3, loss 0.000101\n"
     ]
    }
   ],
   "source": [
    "num_epochs = 3\n",
    "for epoch in range(num_epochs):\n",
    "    for X,y in data_iter:\n",
    "        l = loss(net(X), y )\n",
    "        trainer.zero_grad()\n",
    "        l.backward()\n",
    "        trainer.step()\n",
    "    l = loss(net(features),labels)\n",
    "    print(f'epoch {epoch +1}, loss {l:f}')"
   ]
  },
  {
   "cell_type": "code",
   "execution_count": 11,
   "id": "b72ede29-ae67-4567-9e48-38b0c36e96f4",
   "metadata": {},
   "outputs": [
    {
     "name": "stdout",
     "output_type": "stream",
     "text": [
      "w的估计误差： tensor([ 1.2362e-04, -4.2677e-05])\n",
      "b的估计误差： tensor([-0.0008])\n"
     ]
    }
   ],
   "source": [
    "w = net[0].weight.data\n",
    "print('w的估计误差：', true_w - w.reshape(true_w.shape))\n",
    "b = net[0].bias.data\n",
    "print('b的估计误差：', true_b - b)"
   ]
  },
  {
   "cell_type": "code",
   "execution_count": null,
   "id": "9777c8a6-919b-4a39-b252-4ec81f910c45",
   "metadata": {},
   "outputs": [],
   "source": []
  }
 ],
 "metadata": {
  "kernelspec": {
   "display_name": "train",
   "language": "python",
   "name": "train"
  },
  "language_info": {
   "codemirror_mode": {
    "name": "ipython",
    "version": 3
   },
   "file_extension": ".py",
   "mimetype": "text/x-python",
   "name": "python",
   "nbconvert_exporter": "python",
   "pygments_lexer": "ipython3",
   "version": "3.10.13"
  }
 },
 "nbformat": 4,
 "nbformat_minor": 5
}
